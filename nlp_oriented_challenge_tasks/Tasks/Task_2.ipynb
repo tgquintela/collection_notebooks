{
 "cells": [
  {
   "cell_type": "markdown",
   "metadata": {},
   "source": [
    "# TASKS\n",
    "\n",
    "Hiring tasks\n",
    "\n",
    "Task 2:\n",
    "write an in Python a query that sums up reading for horror readers by day:\n",
    "    - how much did they read?\n",
    "    - how many readers are there?\n",
    "    - what country are the readers from?\n"
   ]
  },
  {
   "cell_type": "code",
   "execution_count": 1,
   "metadata": {
    "collapsed": true
   },
   "outputs": [],
   "source": [
    "import pandas as pd"
   ]
  },
  {
   "cell_type": "code",
   "execution_count": 2,
   "metadata": {
    "collapsed": true
   },
   "outputs": [],
   "source": [
    "# Parse files\n",
    "reading = pd.read_csv('reading.csv')\n",
    "stories = pd.read_csv('stories.csv')\n",
    "visits = pd.read_csv('visits.csv')"
   ]
  },
  {
   "cell_type": "code",
   "execution_count": 3,
   "metadata": {
    "collapsed": true
   },
   "outputs": [],
   "source": [
    "# Obtain \n",
    "stories_horror = stories.loc[((stories['category_one'] == 'horror') | (stories['category_two'] == 'horror')), ['id']]\n",
    "reading_books = reading[['visitor_id', 'created_at', 'story_id', 'visit_id']].merge(stories_horror, left_on='story_id', right_on='id', how='inner', suffixes=('', '_y'))\n",
    "reading_books = reading_books.merge(visits[['visitor_id', 'country']], left_on='visit_id', right_on='visitor_id', how='inner', suffixes=('', '_y'))\n",
    "reading_books['created_at'] = pd.to_datetime(reading_books['created_at'], format='%Y-%m-%d').apply(lambda x: x.date())\n",
    "reading_books = reading_books[['created_at', 'story_id', 'visitor_id', 'country']]\n",
    "#reading_books\n"
   ]
  },
  {
   "cell_type": "code",
   "execution_count": 4,
   "metadata": {
    "collapsed": true
   },
   "outputs": [],
   "source": [
    "# readers by day\n",
    "f_unique_readers = lambda x: len(x.unique())\n",
    "#table = pd.pivot_table(reading_books, index='created_at', values='visitor_id', aggfunc=len).astype(int)\n",
    "readers_by_days = pd.pivot_table(reading_books, index='created_at', values='visitor_id', aggfunc=f_unique_readers).astype(int)\n",
    "readers_by_days_d = dict(zip([x.strftime(\"%Y-%m-%d\") for x in readers_by_days.index], readers_by_days.as_matrix().squeeze()))\n"
   ]
  },
  {
   "cell_type": "code",
   "execution_count": 5,
   "metadata": {
    "collapsed": true
   },
   "outputs": [],
   "source": [
    "# how much did they read?\n",
    "visitors_days_read = pd.pivot_table(reading_books, index='visitor_id', values='created_at', aggfunc=lambda x: len(x.unique())).astype(int)\n",
    "#pd.pivot_table(reading_books, index='visitor_id', values='created_at', aggfunc=len).astype(int)\n",
    "visitors_days_read_d = dict(zip(visitors_days_read.index, visitors_days_read.as_matrix().ravel()))"
   ]
  },
  {
   "cell_type": "code",
   "execution_count": 6,
   "metadata": {},
   "outputs": [
    {
     "data": {
      "text/plain": [
       "42"
      ]
     },
     "execution_count": 6,
     "metadata": {},
     "output_type": "execute_result"
    }
   ],
   "source": [
    "# how many readers are there?\n",
    "len(reading_books['visitor_id'].unique())"
   ]
  },
  {
   "cell_type": "code",
   "execution_count": 7,
   "metadata": {},
   "outputs": [
    {
     "data": {
      "text/plain": [
       "['Australia',\n",
       " 'Bangladesh',\n",
       " 'Canada',\n",
       " 'France',\n",
       " 'Israel',\n",
       " 'Philippines',\n",
       " 'Romania',\n",
       " 'United Kingdom',\n",
       " 'United States']"
      ]
     },
     "execution_count": 7,
     "metadata": {},
     "output_type": "execute_result"
    }
   ],
   "source": [
    "# what country are the readers from?\n",
    "sorted(reading_books['country'].unique())"
   ]
  }
 ],
 "metadata": {
  "kernelspec": {
   "display_name": "Python 2",
   "language": "python",
   "name": "python2"
  },
  "language_info": {
   "codemirror_mode": {
    "name": "ipython",
    "version": 2
   },
   "file_extension": ".py",
   "mimetype": "text/x-python",
   "name": "python",
   "nbconvert_exporter": "python",
   "pygments_lexer": "ipython2",
   "version": "2.7.12"
  }
 },
 "nbformat": 4,
 "nbformat_minor": 2
}
