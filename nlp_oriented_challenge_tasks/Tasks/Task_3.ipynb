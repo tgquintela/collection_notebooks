{
 "cells": [
  {
   "cell_type": "markdown",
   "metadata": {},
   "source": [
    "# TASKS\n",
    "\n",
    "Hiring tasks\n",
    "\n",
    "Task 3:\n",
    "the Stories table contains a field called 'Teaser'. How would you extract geographic location from this?"
   ]
  },
  {
   "cell_type": "code",
   "execution_count": 1,
   "metadata": {
    "collapsed": true
   },
   "outputs": [],
   "source": [
    "import pandas as pd\n",
    "import nltk"
   ]
  },
  {
   "cell_type": "code",
   "execution_count": 2,
   "metadata": {
    "collapsed": true
   },
   "outputs": [],
   "source": [
    "# Parse files\n",
    "stories = pd.read_csv('stories.csv')"
   ]
  },
  {
   "cell_type": "markdown",
   "metadata": {},
   "source": [
    "### Retrieve Geographic location\n",
    "In order to retrieve geographic location we need stored information of possible geographic locations we want to consider. It should be retrieved in O(1) time and that keys should be stored in format unique."
   ]
  },
  {
   "cell_type": "code",
   "execution_count": 3,
   "metadata": {
    "collapsed": true
   },
   "outputs": [],
   "source": [
    "# Example of data stored of geospatial information\n",
    "geo_info = {'london': {'type': 'city', 'summary': {'city': 'London', 'country': 'United Kingdom'}}}"
   ]
  },
  {
   "cell_type": "code",
   "execution_count": 4,
   "metadata": {
    "collapsed": true
   },
   "outputs": [],
   "source": [
    "# Text normalization and tokenize\n",
    "def normalize_text(text):\n",
    "#    collection =\\\n",
    "#        '! \" # $ % & () * + , - . / : ; < = > ? @ [ \\\\ ] ^ _ ` { | } ~ \\t \\n'\n",
    "#    filter_tokens = collection.split(' ')\n",
    "    text = text.lower()\n",
    "    tokens = nltk.word_tokenize(text)\n",
    "    return tokens\n"
   ]
  },
  {
   "cell_type": "code",
   "execution_count": 5,
   "metadata": {
    "collapsed": true
   },
   "outputs": [],
   "source": [
    "## Retrieve geo information\n",
    "geo_info_retrieved = []\n",
    "notnull = ~ stories.teaser.isnull()\n",
    "for i, teaser in enumerate(stories.teaser):\n",
    "    if notnull[i]:\n",
    "        geo_info_retrieved_e = {}\n",
    "        for s in normalize_text(teaser):\n",
    "            geo_info_retrieved_e.update(geo_info.get(s, {}))\n",
    "        geo_info_retrieved.append(geo_info_retrieved_e)\n",
    "    else:\n",
    "        geo_info_retrieved.append({})\n"
   ]
  },
  {
   "cell_type": "code",
   "execution_count": 6,
   "metadata": {},
   "outputs": [
    {
     "data": {
      "text/plain": [
       "[{},\n",
       " {},\n",
       " {},\n",
       " {},\n",
       " {'summary': {'city': 'London', 'country': 'United Kingdom'}, 'type': 'city'},\n",
       " {}]"
      ]
     },
     "execution_count": 6,
     "metadata": {},
     "output_type": "execute_result"
    }
   ],
   "source": [
    "geo_info_retrieved"
   ]
  }
 ],
 "metadata": {
  "kernelspec": {
   "display_name": "Python 2",
   "language": "python",
   "name": "python2"
  },
  "language_info": {
   "codemirror_mode": {
    "name": "ipython",
    "version": 2
   },
   "file_extension": ".py",
   "mimetype": "text/x-python",
   "name": "python",
   "nbconvert_exporter": "python",
   "pygments_lexer": "ipython2",
   "version": "2.7.12"
  }
 },
 "nbformat": 4,
 "nbformat_minor": 2
}
